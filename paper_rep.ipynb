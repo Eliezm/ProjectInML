{
 "cells": [
  {
   "cell_type": "markdown",
   "id": "a6b4a735",
   "metadata": {},
   "source": [
    "Data process"
   ]
  },
  {
   "cell_type": "code",
   "execution_count": 1,
   "id": "c7c8feaa",
   "metadata": {},
   "outputs": [],
   "source": [
    "import os\n",
    "import glob\n",
    "import pandas as pd\n",
    "\n"
   ]
  },
  {
   "cell_type": "code",
   "execution_count": 3,
   "id": "887b4f65",
   "metadata": {},
   "outputs": [
    {
     "name": "stdout",
     "output_type": "stream",
     "text": [
      "<class 'pandas.core.frame.DataFrame'>\n",
      "RangeIndex: 108 entries, 0 to 107\n",
      "Data columns (total 4 columns):\n",
      " #   Column      Non-Null Count  Dtype \n",
      "---  ------      --------------  ----- \n",
      " 0   split       108 non-null    object\n",
      " 1   category    108 non-null    object\n",
      " 2   filename    108 non-null    object\n",
      " 3   transcript  108 non-null    object\n",
      "dtypes: object(4)\n",
      "memory usage: 3.5+ KB\n",
      "None\n"
     ]
    },
    {
     "data": {
      "text/html": [
       "<div>\n",
       "<style scoped>\n",
       "    .dataframe tbody tr th:only-of-type {\n",
       "        vertical-align: middle;\n",
       "    }\n",
       "\n",
       "    .dataframe tbody tr th {\n",
       "        vertical-align: top;\n",
       "    }\n",
       "\n",
       "    .dataframe thead th {\n",
       "        text-align: right;\n",
       "    }\n",
       "</style>\n",
       "<table border=\"1\" class=\"dataframe\">\n",
       "  <thead>\n",
       "    <tr style=\"text-align: right;\">\n",
       "      <th></th>\n",
       "      <th>split</th>\n",
       "      <th>category</th>\n",
       "      <th>filename</th>\n",
       "      <th>transcript</th>\n",
       "    </tr>\n",
       "  </thead>\n",
       "  <tbody>\n",
       "    <tr>\n",
       "      <th>0</th>\n",
       "      <td>train</td>\n",
       "      <td>cc</td>\n",
       "      <td>S001.cha</td>\n",
       "      <td>@UTF8\\n@PID:\\t11312/t-00002184-1\\n@Begin\\n@Lan...</td>\n",
       "    </tr>\n",
       "    <tr>\n",
       "      <th>1</th>\n",
       "      <td>train</td>\n",
       "      <td>cc</td>\n",
       "      <td>S002.cha</td>\n",
       "      <td>@UTF8\\n@PID:\\t11312/t-00002185-1\\n@Begin\\n@Lan...</td>\n",
       "    </tr>\n",
       "    <tr>\n",
       "      <th>2</th>\n",
       "      <td>train</td>\n",
       "      <td>cc</td>\n",
       "      <td>S003.cha</td>\n",
       "      <td>@UTF8\\n@PID:\\t11312/t-00002192-1\\n@Begin\\n@Lan...</td>\n",
       "    </tr>\n",
       "    <tr>\n",
       "      <th>3</th>\n",
       "      <td>train</td>\n",
       "      <td>cc</td>\n",
       "      <td>S004.cha</td>\n",
       "      <td>@UTF8\\n@PID:\\t11312/t-00002194-1\\n@Begin\\n@Lan...</td>\n",
       "    </tr>\n",
       "    <tr>\n",
       "      <th>4</th>\n",
       "      <td>train</td>\n",
       "      <td>cc</td>\n",
       "      <td>S005.cha</td>\n",
       "      <td>@UTF8\\n@PID:\\t11312/t-00002196-1\\n@Begin\\n@Lan...</td>\n",
       "    </tr>\n",
       "  </tbody>\n",
       "</table>\n",
       "</div>"
      ],
      "text/plain": [
       "   split category  filename                                         transcript\n",
       "0  train       cc  S001.cha  @UTF8\\n@PID:\\t11312/t-00002184-1\\n@Begin\\n@Lan...\n",
       "1  train       cc  S002.cha  @UTF8\\n@PID:\\t11312/t-00002185-1\\n@Begin\\n@Lan...\n",
       "2  train       cc  S003.cha  @UTF8\\n@PID:\\t11312/t-00002192-1\\n@Begin\\n@Lan...\n",
       "3  train       cc  S004.cha  @UTF8\\n@PID:\\t11312/t-00002194-1\\n@Begin\\n@Lan...\n",
       "4  train       cc  S005.cha  @UTF8\\n@PID:\\t11312/t-00002196-1\\n@Begin\\n@Lan..."
      ]
     },
     "execution_count": 3,
     "metadata": {},
     "output_type": "execute_result"
    }
   ],
   "source": [
    "\n",
    "\n",
    "def read_cha_file(path):\n",
    "    \"\"\"\n",
    "    Read a .cha file and return its contents as a string.\n",
    "    \"\"\"\n",
    "    with open(path, 'r', encoding='utf-8', errors='ignore') as f:\n",
    "        return f.read()\n",
    "\n",
    "def load_transcriptions(base_dir):\n",
    "    \"\"\"\n",
    "    Walk through train/ and test/ splits, load .cha files from\n",
    "    transcription/cc and transcription/cd into a DataFrame.\n",
    "    \"\"\"\n",
    "    records = []\n",
    "    for split in (\"train\", \"test\"):\n",
    "        for category in (\"cc\", \"cd\"):\n",
    "            pattern = os.path.join(base_dir, split, \"transcription\", category, \"*.cha\")\n",
    "            for filepath in glob.glob(pattern):\n",
    "                text = read_cha_file(filepath)\n",
    "                records.append({\n",
    "                    \"split\":      split,\n",
    "                    \"category\":   category,\n",
    "                    \"filename\":   os.path.basename(filepath),\n",
    "                    \"transcript\": text\n",
    "                })\n",
    "    return pd.DataFrame(records)\n",
    "\n",
    "# Update this path to your dataset root\n",
    "BASE_DIR = \".\"\n",
    "# Load all transcripts\n",
    "df = load_transcriptions(BASE_DIR)\n",
    "\n",
    "# Inspect the DataFrame\n",
    "print(df.info())\n",
    "df.head()\n"
   ]
  },
  {
   "cell_type": "code",
   "execution_count": null,
   "id": "b27c65e0",
   "metadata": {},
   "outputs": [],
   "source": []
  }
 ],
 "metadata": {
  "kernelspec": {
   "display_name": "Python 3",
   "language": "python",
   "name": "python3"
  },
  "language_info": {
   "codemirror_mode": {
    "name": "ipython",
    "version": 3
   },
   "file_extension": ".py",
   "mimetype": "text/x-python",
   "name": "python",
   "nbconvert_exporter": "python",
   "pygments_lexer": "ipython3",
   "version": "3.10.2"
  }
 },
 "nbformat": 4,
 "nbformat_minor": 5
}
